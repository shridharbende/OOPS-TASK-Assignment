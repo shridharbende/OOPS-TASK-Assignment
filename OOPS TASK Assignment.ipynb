{
 "cells": [
  {
   "cell_type": "markdown",
   "id": "e9f447e4-a529-49fc-82dc-a96b4f62eb8a",
   "metadata": {},
   "source": [
    "Q1, Create a vehicle class with an init method having instance variables as name_of_vehicle, max_speed\n",
    "and average_of_vehicle."
   ]
  },
  {
   "cell_type": "code",
   "execution_count": 1,
   "id": "eb19595d-c939-4a16-8f77-8f4292eefa5d",
   "metadata": {},
   "outputs": [],
   "source": [
    "class vehicle:\n",
    "    def __init__(self,name_of_vehicle, max_speed , average_of_vehicle):\n",
    "    \n",
    "        self.name_of_vehicle = name_of_vehicle\n",
    "        self.__max_speed = max_speed\n",
    "        self.__average_of_vehicle = average_of_vehicle\n",
    "    "
   ]
  },
  {
   "cell_type": "markdown",
   "id": "fb02e8ec-0b05-48f6-9bab-bc0a36f8c632",
   "metadata": {},
   "source": [
    "Q2. Create a child class car from the vehicle class created in Que 1, which will inherit the vehicle class.\n",
    "Create a method named seating_capacity which takes capacity as an argument and returns the name of\n",
    "the vehicle and its seating capacity."
   ]
  },
  {
   "cell_type": "code",
   "execution_count": 2,
   "id": "d5e91634-1e21-4cec-887c-1de571ca7d47",
   "metadata": {},
   "outputs": [],
   "source": [
    "class car(vehicle):\n",
    "    def __init__(self,seating_capacity):\n",
    "        self.seating_capacity=seating_capacity\n",
    "    def return_details(self):\n",
    "         return self.name_of_vehicle , self.seating_capacity\n"
   ]
  },
  {
   "cell_type": "code",
   "execution_count": 3,
   "id": "5f3478b3-9396-42cd-93d4-b17b2820b71b",
   "metadata": {},
   "outputs": [],
   "source": [
    "thar=vehicle('mahindra',120,12)\n",
    "thar=car(4)"
   ]
  },
  {
   "cell_type": "markdown",
   "id": "bc8bfa47-81d0-4e9c-a0bc-7417d4f06f3f",
   "metadata": {},
   "source": [
    "Q3. What is multiple inheritance? Write a python code to demonstrate multiple inheritance."
   ]
  },
  {
   "cell_type": "code",
   "execution_count": 6,
   "id": "f15d510c-4954-4a90-b55a-31e012c5d5a7",
   "metadata": {},
   "outputs": [],
   "source": [
    "class nagpur:\n",
    "    def metropolitan(self):\n",
    "        print(\"yes\")\n",
    "class my_village:\n",
    "    def greenry(self):\n",
    "        print(\"yes\")\n",
    "class gkp(noida , my_village):\n",
    "    pass"
   ]
  },
  {
   "cell_type": "markdown",
   "id": "53267e25-21d5-4c1c-be51-1f630f87c707",
   "metadata": {},
   "source": [
    "Q4. What are getter and setter in python? Create a class and create a getter and a setter method in this\n",
    "class."
   ]
  },
  {
   "cell_type": "code",
   "execution_count": 7,
   "id": "bfb603ee-bd13-440e-93e8-a211767773ad",
   "metadata": {},
   "outputs": [],
   "source": [
    "class love:\n",
    "    def __init__(self,romance,friedship):\n",
    "        self.__romance= romance\n",
    "        self.friendship=friendship\n",
    "    @property\n",
    "    def romance_exposed(self):\n",
    "        return self.__romance\n",
    "    @romance_exposed.setter\n",
    "    def romance_changed(self,prem):\n",
    "        self.__romance=prem"
   ]
  },
  {
   "cell_type": "markdown",
   "id": "7242a6be-4550-4bc7-9f9c-61038ff5dc3f",
   "metadata": {},
   "source": [
    "Q5.What is method overriding in python? Write a python code to demonstrate method overriding."
   ]
  },
  {
   "cell_type": "code",
   "execution_count": 12,
   "id": "f60c6845-a735-4874-98cb-a310f32d0bc6",
   "metadata": {},
   "outputs": [],
   "source": [
    "import abc\n",
    "class pwskills:\n",
    "    @abc.abstractmethod\n",
    "    def student_details(self):\n",
    "        pass\n",
    "    @abc.abstractmethod\n",
    "    def student_assignment(self):\n",
    "        pass\n",
    "    @abc.abstractmethod\n",
    "    def student_marks(self):\n",
    "        pass"
   ]
  },
  {
   "cell_type": "code",
   "execution_count": 13,
   "id": "8cf7f971-27b6-4381-b250-7f579f4a384d",
   "metadata": {},
   "outputs": [],
   "source": [
    "class student_details(pwskills):\n",
    "    def student_details (self):\n",
    "        return \"this a meth for taking student details\"\n",
    "    def student_assignment(self):\n",
    "        return \"this is meth for assing details for a perticular student\"\n",
    "    \n",
    "    "
   ]
  },
  {
   "cell_type": "code",
   "execution_count": 14,
   "id": "b5740138-1a45-496a-b963-a4c68321613b",
   "metadata": {},
   "outputs": [],
   "source": [
    "class data_science_master(pwskills):\n",
    "    def student_details(self):\n",
    "        return \"this will return student details of data science master\"\n",
    "    def student_assignment(self):\n",
    "        return \"this will give you a student assignment details of data science master\"\n",
    "    "
   ]
  },
  {
   "cell_type": "code",
   "execution_count": 15,
   "id": "ea61fb1a-dd4f-4f9a-a4a3-c7335ad8bdd7",
   "metadata": {},
   "outputs": [
    {
     "data": {
      "text/plain": [
       "'this will return student details of data science master'"
      ]
     },
     "execution_count": 15,
     "metadata": {},
     "output_type": "execute_result"
    }
   ],
   "source": [
    "dsm = data_science_master()\n",
    "dsm.student_details()"
   ]
  },
  {
   "cell_type": "code",
   "execution_count": 16,
   "id": "7d3c33cc-c066-4e38-86c7-149640362272",
   "metadata": {},
   "outputs": [
    {
     "data": {
      "text/plain": [
       "'this a meth for taking student details'"
      ]
     },
     "execution_count": 16,
     "metadata": {},
     "output_type": "execute_result"
    }
   ],
   "source": [
    "sd = student_details()\n",
    "sd.student_details()"
   ]
  },
  {
   "cell_type": "code",
   "execution_count": null,
   "id": "6c7a7591-7423-4d30-8d3f-2f8793f37183",
   "metadata": {},
   "outputs": [],
   "source": []
  }
 ],
 "metadata": {
  "kernelspec": {
   "display_name": "Python 3 (ipykernel)",
   "language": "python",
   "name": "python3"
  },
  "language_info": {
   "codemirror_mode": {
    "name": "ipython",
    "version": 3
   },
   "file_extension": ".py",
   "mimetype": "text/x-python",
   "name": "python",
   "nbconvert_exporter": "python",
   "pygments_lexer": "ipython3",
   "version": "3.10.8"
  }
 },
 "nbformat": 4,
 "nbformat_minor": 5
}
